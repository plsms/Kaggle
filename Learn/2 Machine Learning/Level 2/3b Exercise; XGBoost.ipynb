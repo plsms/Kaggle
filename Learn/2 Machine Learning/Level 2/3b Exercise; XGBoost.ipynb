{
  "cells": [
    {
      "metadata": {
        "_cell_guid": "d4734507-8c87-4fe5-ad71-f1789bb400c2",
        "_uuid": "356f0198ce3ebd1a9602827cb866938db94f010a"
      },
      "cell_type": "markdown",
      "source": "*This tutorial is part of the [Learn Machine Learning](https://www.kaggle.com/dansbecker/learn-machine-learning) series. In this step, you will learn how to build and optimize models with the powerful xgboost library.* \n\n# What is XGBoost\n\n**XGBoost** is the leading model for working with standard tabular data (the type of data you store in Pandas DataFrames, as opposed to more exotic types of data like images and videos). XGBoost models dominate many Kaggle competitions. \n\nTo reach peak accuracy, XGBoost models require more knowledge and  _model tuning_ than techniques like Random Forest. After this tutorial, you'ill be able to \n- Follow the full modeling workflow with XGBoost \n- Fine-tune XGBoost models for optimal performance\n\n\nXGBoost is an implementation of the **Gradient Boosted Decision Trees** algorithm (scikit-learn has another version of this algorithm, but XGBoost has some technical advantages.)  What is **Gradient Boosted Decision Trees**?  We'll walk through a diagram.\n\n![xgboost image](https://i.imgur.com/e7MIgXk.png)\n\nWe go through cycles that repeatedly builds new models and combines them into an **ensemble** model.  We start the cycle by calculating the errors for each observation in the dataset.  We then build a new model to predict those.  We add predictions from this error-predicting model to the \"ensemble of models.\"  \n\nTo make a prediction, we add the predictions from all previous models.  We can use these predictions to calculate new errors, build the next model, and add it to the ensemble.\n\nThere's one piece outside that cycle.  We need some base prediction to start the cycle. In practice, the initial predictions can be pretty naive. Even if it's predictions are wildly inaccurate, subsequent additions to the ensemble will address those errors.\n\nThis process may sound complicated, but the code to use it is straightforward. We'll fill in some additional explanatory details in the **model tuning** section below.\n\n---\n\n# Example"
    },
    {
      "metadata": {
        "_cell_guid": "564d7a39-443c-4dd6-970c-b0fa5df27d27",
        "_uuid": "00791a3147a13a5897e29cb9c4ea0c0a415fd992"
      },
      "cell_type": "markdown",
      "source": "We will start with the data pre-loaded into **train_X**, **test_X**, **train_y**, **test_y**."
    },
    {
      "metadata": {
        "_kg_hide-input": false,
        "_cell_guid": "5ccb0b52-f433-4372-8a52-45867798bf52",
        "_uuid": "404e28f23a168f94ffba7d1259cea21281ca0b28",
        "trusted": true
      },
      "cell_type": "code",
      "source": "import pandas as pd\nfrom sklearn.model_selection import train_test_split\nfrom sklearn.impute import SimpleImputer as Imputer\n\ndata = pd.read_csv('../input/train.csv')\ndata.dropna(axis=0, subset=['SalePrice'], inplace=True)\ny = data.SalePrice\nX = data.drop(['SalePrice'], axis=1).select_dtypes(exclude=['object'])\ntrain_X, test_X, train_y, test_y = train_test_split(X.values, y.values, test_size=0.25)\n\nmy_imputer = Imputer()\ntrain_X = my_imputer.fit_transform(train_X)\ntest_X = my_imputer.transform(test_X)\n",
      "execution_count": 1,
      "outputs": []
    },
    {
      "metadata": {
        "_cell_guid": "622a2efe-1abf-4da3-a96c-3d44b6a6b66e",
        "_uuid": "dff675a1dd68320a6956e7814b34c096a7a6b2c7"
      },
      "cell_type": "markdown",
      "source": "We build and fit a model just as we would in scikit-learn."
    },
    {
      "metadata": {
        "_kg_hide-output": true,
        "_cell_guid": "cd8dedb3-c968-46eb-a714-368543067f82",
        "_uuid": "4989d6fc83a32eefcf968ada8a24539774c0353d",
        "trusted": true
      },
      "cell_type": "code",
      "source": "from xgboost import XGBRegressor\n\nmy_model = XGBRegressor()\n# Add silent=True to avoid printing out updates with each cycle\nmy_model.fit(train_X, train_y, verbose=False)\n",
      "execution_count": 2,
      "outputs": [
        {
          "output_type": "execute_result",
          "execution_count": 2,
          "data": {
            "text/plain": "XGBRegressor(base_score=0.5, booster='gbtree', colsample_bylevel=1,\n       colsample_bytree=1, gamma=0, learning_rate=0.1, max_delta_step=0,\n       max_depth=3, min_child_weight=1, missing=None, n_estimators=100,\n       n_jobs=1, nthread=None, objective='reg:linear', random_state=0,\n       reg_alpha=0, reg_lambda=1, scale_pos_weight=1, seed=None,\n       silent=True, subsample=1)"
          },
          "metadata": {}
        }
      ]
    },
    {
      "metadata": {
        "_cell_guid": "07ea4042-87fc-492c-947d-39879bed8ae4",
        "_uuid": "7dd364e097f41d05b3e6b3c190ec0f90d95229b6"
      },
      "cell_type": "markdown",
      "source": "We similarly evaluate a model and make predictions as we would do in scikit-learn."
    },
    {
      "metadata": {
        "_cell_guid": "81a7a6b4-0054-4695-b442-558f927efca0",
        "_uuid": "0296bd0ec89993c0d3d5a6ab33aaa8fb2573b978",
        "trusted": true
      },
      "cell_type": "code",
      "source": "# make predictions\npredictions = my_model.predict(test_X)\n\nfrom sklearn.metrics import mean_absolute_error\nprint(\"Mean Absolute Error : \" + str(mean_absolute_error(predictions, test_y)))",
      "execution_count": 3,
      "outputs": [
        {
          "output_type": "stream",
          "text": "Mean Absolute Error : 15816.55256849315\n",
          "name": "stdout"
        }
      ]
    },
    {
      "metadata": {
        "_cell_guid": "113631b7-4984-4efe-a156-ada4ad8a7faa",
        "_uuid": "c127129ba773d7bc490b7762162f2aecf8cf3480"
      },
      "cell_type": "markdown",
      "source": "---\n# Model Tuning\n\nXGBoost has a few parameters that can dramatically affect your model's accuracy and training speed.  The first parameters you should understand are:\n\n### n_estimators and early_stopping_rounds\n**n_estimators** specifies how many times to go through the modeling cycle described above.  \n\nIn the [underfitting vs overfitting graph](http://i.imgur.com/2q85n9s.png), n_estimators moves you further to the right.  Too low a value causes underfitting, which is inaccurate predictions on both training data and new data. Too large a value causes overfitting, which is accurate predictions on training data, but inaccurate predictions on new data (which is what we care about). You can experiment with your dataset to find the ideal.  Typical values range from 100-1000, though this depends a lot on the **learning rate** discussed below.\n\nThe argument **early_stopping_rounds** offers a way to automatically find the ideal value. Early stopping causes the model to stop iterating when the validation score stops improving, even if we aren't at the hard stop for n_estimators.  It's smart to set a high value for **n_estimators** and then use **early_stopping_rounds** to find the optimal time to stop iterating.\n\nSince random chance sometimes causes a single round where validation scores don't improve, you need to specify a number for how many rounds of straight deterioration to allow before stopping.  **early_stopping_rounds = 5** is a reasonable value.  Thus we stop after 5 straight rounds of deteriorating validation scores.\n\nHere is the code to fit with early_stopping:"
    },
    {
      "metadata": {
        "_cell_guid": "8a76bffd-ebba-4d82-bef9-ec89f3351b69",
        "_uuid": "e10da100af8f7bb40a874956ce46912d63269e58",
        "trusted": true
      },
      "cell_type": "code",
      "source": "my_model = XGBRegressor(n_estimators=1000)\nmy_model.fit(train_X, train_y, early_stopping_rounds=5, \n             eval_set=[(test_X, test_y)], verbose=False)\n\npredictions = my_model.predict(test_X)\nprint(\"Mean Absolute Error : \" + str(mean_absolute_error(predictions, test_y)))",
      "execution_count": 4,
      "outputs": [
        {
          "output_type": "stream",
          "text": "Mean Absolute Error : 15789.060295376712\n",
          "name": "stdout"
        }
      ]
    },
    {
      "metadata": {
        "_cell_guid": "d594b7b7-0277-4683-a6f5-dbd1cf2e21ea",
        "_uuid": "801ffd089a8b903d796a1f16a3c0a1ee8d9a1db9"
      },
      "cell_type": "markdown",
      "source": "When using **early_stopping_rounds**, you need to set aside some of your data for checking the number of rounds to use.  If you later want to fit a model with all of your data, set **n_estimators** to whatever value you found to be optimal when run with early stopping.\n\n### learning_rate\nHere's a subtle but important trick for better XGBoost models:\n\nInstead of getting predictions by simply adding up the predictions from each component model, we will multiply the predictions from each model by a small number before adding them in.  This means each tree we add to the ensemble helps us less.  In practice, this reduces the model's propensity to overfit.\n\nSo, you can use a higher value of **n_estimators** without overfitting.  If you use early stopping, the appropriate number of trees will be set automatically.\n\nIn general, a small learning rate (and large number of estimators) will yield more accurate XGBoost models, though it will also take the model longer to train since it does more iterations through the cycle.\n\nModifying the example above to include a learing rate would yield the following code:"
    },
    {
      "metadata": {
        "_cell_guid": "4be218c5-3368-4ac8-b85f-9872d2627e1b",
        "_uuid": "501f1decb82798b58cb46542eb76f5e95d196195",
        "trusted": true
      },
      "cell_type": "code",
      "source": "my_model = XGBRegressor(n_estimators=1000, learning_rate=0.05)\nmy_model.fit(train_X, train_y, early_stopping_rounds=5, \n             eval_set=[(test_X, test_y)], verbose=False)\n\npredictions = my_model.predict(test_X)\nprint(\"Mean Absolute Error : \" + str(mean_absolute_error(predictions, test_y)))",
      "execution_count": 5,
      "outputs": [
        {
          "output_type": "stream",
          "text": "Mean Absolute Error : 15634.024850171232\n",
          "name": "stdout"
        }
      ]
    },
    {
      "metadata": {
        "_cell_guid": "8705eda9-4437-4495-92f6-88809cf5d147",
        "_uuid": "a477779f3a9bf8366f2d1b053a162bcff17c9c0a"
      },
      "cell_type": "markdown",
      "source": "### n_jobs\nOn larger datasets where runtime is a consideration, you can use parallelism to build your models faster.  It's common to set the parameter **n_jobs** equal to the number of cores on your machine.  On smaller datasets, this won't help. \n\nThe resulting model won't be any better, so micro-optimizing for fitting time is typically nothing but a distraction. But, it's useful in large datasets where you would otherwise spend a long time waiting during the `fit` command.\n\nXGBoost has a multitude of other parameters, but these will go a very long way in helping you fine-tune your XGBoost model for optimal performance.\n\n# Conclusion\nXGBoost is currently the dominant algorithm for building accurate models on conventional data (also called tabular or strutured data).  Go apply it to improve your models!\n\n# Your Turn\nConvert your model to use XGBoost.\n\nUse early stopping to find a good value for n_estimators.  Then re-estimate the model with all of your training data, and that value of n_estimators.\n\nOnce you've done this, return to **[Learning Machine Learning](https://www.kaggle.com/dansbecker/learn-machine-learning)**, to keep improving..  \n\n"
    }
  ],
  "metadata": {
    "kernelspec": {
      "display_name": "Python 3",
      "language": "python",
      "name": "python3"
    },
    "language_info": {
      "name": "python",
      "version": "3.6.6",
      "mimetype": "text/x-python",
      "codemirror_mode": {
        "name": "ipython",
        "version": 3
      },
      "pygments_lexer": "ipython3",
      "nbconvert_exporter": "python",
      "file_extension": ".py"
    }
  },
  "nbformat": 4,
  "nbformat_minor": 1
}
